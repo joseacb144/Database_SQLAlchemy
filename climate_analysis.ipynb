{
 "cells": [
  {
   "cell_type": "code",
   "execution_count": 43,
   "metadata": {
    "collapsed": true
   },
   "outputs": [],
   "source": [
    "import sqlalchemy\n",
    "from sqlalchemy.ext.automap import automap_base\n",
    "from sqlalchemy.orm import Session\n",
    "from sqlalchemy import create_engine, inspect\n",
    "from sqlalchemy import func\n",
    "\n",
    "import pandas as pd\n",
    "import numpy as np\n",
    "import matplotlib.pyplot as plt"
   ]
  },
  {
   "cell_type": "code",
   "execution_count": 11,
   "metadata": {
    "collapsed": true
   },
   "outputs": [],
   "source": [
    "engine = create_engine('sqlite:///hawaii.sqlite')"
   ]
  },
  {
   "cell_type": "code",
   "execution_count": 18,
   "metadata": {},
   "outputs": [
    {
     "data": {
      "text/plain": [
       "['measurement', 'station']"
      ]
     },
     "execution_count": 18,
     "metadata": {},
     "output_type": "execute_result"
    }
   ],
   "source": [
    "Base = automap_base()\n",
    "Base.prepare(engine, reflect = True)\n",
    "Base.classes.keys()"
   ]
  },
  {
   "cell_type": "code",
   "execution_count": 20,
   "metadata": {
    "collapsed": true
   },
   "outputs": [],
   "source": [
    "Measurement = Base.classes.measurement\n",
    "Station = Base.classes.station\n",
    "session = Session(engine)"
   ]
  },
  {
   "cell_type": "code",
   "execution_count": 21,
   "metadata": {},
   "outputs": [
    {
     "data": {
      "text/plain": [
       "{'_sa_instance_state': <sqlalchemy.orm.state.InstanceState at 0x80442e8>,\n",
       " 'elevation': 3.0,\n",
       " 'id': 0,\n",
       " 'latitude': 21.2716,\n",
       " 'longitude': -157.8168,\n",
       " 'name': 'WAIKIKI 717.2, HI US',\n",
       " 'station': 'USC00519397'}"
      ]
     },
     "execution_count": 21,
     "metadata": {},
     "output_type": "execute_result"
    }
   ],
   "source": [
    "first_row = session.query(Station).first()\n",
    "first_row.__dict__"
   ]
  },
  {
   "cell_type": "code",
   "execution_count": 22,
   "metadata": {},
   "outputs": [
    {
     "data": {
      "text/plain": [
       "{'_sa_instance_state': <sqlalchemy.orm.state.InstanceState at 0x801da90>,\n",
       " 'date': '2010-01-01',\n",
       " 'id': 0,\n",
       " 'prcp': 0.08,\n",
       " 'station': 'USC00519397',\n",
       " 'tobs': 65.0}"
      ]
     },
     "execution_count": 22,
     "metadata": {},
     "output_type": "execute_result"
    }
   ],
   "source": [
    "first_row = session.query(Measurement).first()\n",
    "first_row.__dict__"
   ]
  },
  {
   "cell_type": "code",
   "execution_count": 24,
   "metadata": {},
   "outputs": [
    {
     "data": {
      "text/html": [
       "<div>\n",
       "<style>\n",
       "    .dataframe thead tr:only-child th {\n",
       "        text-align: right;\n",
       "    }\n",
       "\n",
       "    .dataframe thead th {\n",
       "        text-align: left;\n",
       "    }\n",
       "\n",
       "    .dataframe tbody tr th {\n",
       "        vertical-align: top;\n",
       "    }\n",
       "</style>\n",
       "<table border=\"1\" class=\"dataframe\">\n",
       "  <thead>\n",
       "    <tr style=\"text-align: right;\">\n",
       "      <th></th>\n",
       "      <th>date</th>\n",
       "      <th>prcp</th>\n",
       "    </tr>\n",
       "  </thead>\n",
       "  <tbody>\n",
       "    <tr>\n",
       "      <th>0</th>\n",
       "      <td>2017-08-23</td>\n",
       "      <td>0.08</td>\n",
       "    </tr>\n",
       "  </tbody>\n",
       "</table>\n",
       "</div>"
      ],
      "text/plain": [
       "         date  prcp\n",
       "0  2017-08-23  0.08"
      ]
     },
     "execution_count": 24,
     "metadata": {},
     "output_type": "execute_result"
    }
   ],
   "source": [
    "dates = session.query(Measurement.date, Measurement.prcp).order_by(Measurement.date.desc()).limit(365).all()\n",
    "s_dates = pd.DataFrame(dates)\n",
    "s_dates.head(1)"
   ]
  },
  {
   "cell_type": "code",
   "execution_count": 25,
   "metadata": {},
   "outputs": [
    {
     "data": {
      "image/png": "[encoded data removed]",
      "text/plain": [
       "<matplotlib.figure.Figure at 0xb47fbe0>"
      ]
     },
     "metadata": {},
     "output_type": "display_data"
    }
   ],
   "source": [
    "s_dates.set_index('date', inplace=True)\n",
    "\n",
    "s_dates['prcp'].plot(figsize=(10,4), color = 'b', alpha = 0.75)\n",
    "plt.grid()\n",
    "plt.legend()\n",
    "plt.xticks(rotation=45)\n",
    "plt.title('Precipitation vs Days')\n",
    "plt.ylabel('Values')\n",
    "plt.savefig('precipitation.png')\n",
    "plt.show()"
   ]
  },
  {
   "cell_type": "code",
   "execution_count": 34,
   "metadata": {},
   "outputs": [
    {
     "data": {
      "text/html": [
       "<div>\n",
       "<style>\n",
       "    .dataframe thead tr:only-child th {\n",
       "        text-align: right;\n",
       "    }\n",
       "\n",
       "    .dataframe thead th {\n",
       "        text-align: left;\n",
       "    }\n",
       "\n",
       "    .dataframe tbody tr th {\n",
       "        vertical-align: top;\n",
       "    }\n",
       "</style>\n",
       "<table border=\"1\" class=\"dataframe\">\n",
       "  <thead>\n",
       "    <tr style=\"text-align: right;\">\n",
       "      <th></th>\n",
       "      <th>prcp</th>\n",
       "    </tr>\n",
       "  </thead>\n",
       "  <tbody>\n",
       "    <tr>\n",
       "      <th>count</th>\n",
       "      <td>9918.000000</td>\n",
       "    </tr>\n",
       "    <tr>\n",
       "      <th>mean</th>\n",
       "      <td>0.293217</td>\n",
       "    </tr>\n",
       "    <tr>\n",
       "      <th>std</th>\n",
       "      <td>0.601825</td>\n",
       "    </tr>\n",
       "    <tr>\n",
       "      <th>min</th>\n",
       "      <td>0.010000</td>\n",
       "    </tr>\n",
       "    <tr>\n",
       "      <th>25%</th>\n",
       "      <td>0.030000</td>\n",
       "    </tr>\n",
       "    <tr>\n",
       "      <th>50%</th>\n",
       "      <td>0.090000</td>\n",
       "    </tr>\n",
       "    <tr>\n",
       "      <th>75%</th>\n",
       "      <td>0.290000</td>\n",
       "    </tr>\n",
       "    <tr>\n",
       "      <th>max</th>\n",
       "      <td>11.530000</td>\n",
       "    </tr>\n",
       "  </tbody>\n",
       "</table>\n",
       "</div>"
      ],
      "text/plain": [
       "              prcp\n",
       "count  9918.000000\n",
       "mean      0.293217\n",
       "std       0.601825\n",
       "min       0.010000\n",
       "25%       0.030000\n",
       "50%       0.090000\n",
       "75%       0.290000\n",
       "max      11.530000"
      ]
     },
     "execution_count": 34,
     "metadata": {},
     "output_type": "execute_result"
    }
   ],
   "source": [
    "prcp_data = session.query(Measurement.prcp).order_by(Measurement.date.desc()).all()\n",
    "prcp_data = pd.DataFrame(prcp_data)\n",
    "prcp_data.describe()"
   ]
  },
  {
   "cell_type": "code",
   "execution_count": 37,
   "metadata": {},
   "outputs": [
    {
     "name": "stdout",
     "output_type": "stream",
     "text": [
      "There are 9 stations in Hawaii.\n"
     ]
    }
   ],
   "source": [
    "# Number of Stations\n",
    "\n",
    "stations = session.query(Station.name).count()\n",
    "print(f'There are {stations} stations in Hawaii.'.format())"
   ]
  },
  {
   "cell_type": "code",
   "execution_count": 40,
   "metadata": {},
   "outputs": [
    {
     "data": {
      "text/html": [
       "<div>\n",
       "<style>\n",
       "    .dataframe thead tr:only-child th {\n",
       "        text-align: right;\n",
       "    }\n",
       "\n",
       "    .dataframe thead th {\n",
       "        text-align: left;\n",
       "    }\n",
       "\n",
       "    .dataframe tbody tr th {\n",
       "        vertical-align: top;\n",
       "    }\n",
       "</style>\n",
       "<table border=\"1\" class=\"dataframe\">\n",
       "  <thead>\n",
       "    <tr style=\"text-align: right;\">\n",
       "      <th></th>\n",
       "      <th>station</th>\n",
       "    </tr>\n",
       "  </thead>\n",
       "  <tbody>\n",
       "    <tr>\n",
       "      <th>USC00519281</th>\n",
       "      <td>1973</td>\n",
       "    </tr>\n",
       "    <tr>\n",
       "      <th>USC00516128</th>\n",
       "      <td>1937</td>\n",
       "    </tr>\n",
       "    <tr>\n",
       "      <th>USC00513117</th>\n",
       "      <td>1765</td>\n",
       "    </tr>\n",
       "    <tr>\n",
       "      <th>USC00519523</th>\n",
       "      <td>1191</td>\n",
       "    </tr>\n",
       "    <tr>\n",
       "      <th>USC00514830</th>\n",
       "      <td>1114</td>\n",
       "    </tr>\n",
       "    <tr>\n",
       "      <th>USC00519397</th>\n",
       "      <td>919</td>\n",
       "    </tr>\n",
       "    <tr>\n",
       "      <th>USC00511918</th>\n",
       "      <td>534</td>\n",
       "    </tr>\n",
       "    <tr>\n",
       "      <th>USC00518838</th>\n",
       "      <td>256</td>\n",
       "    </tr>\n",
       "    <tr>\n",
       "      <th>USC00517948</th>\n",
       "      <td>229</td>\n",
       "    </tr>\n",
       "  </tbody>\n",
       "</table>\n",
       "</div>"
      ],
      "text/plain": [
       "             station\n",
       "USC00519281     1973\n",
       "USC00516128     1937\n",
       "USC00513117     1765\n",
       "USC00519523     1191\n",
       "USC00514830     1114\n",
       "USC00519397      919\n",
       "USC00511918      534\n",
       "USC00518838      256\n",
       "USC00517948      229"
      ]
     },
     "execution_count": 40,
     "metadata": {},
     "output_type": "execute_result"
    }
   ],
   "source": [
    "# Designed a query to find the most active stations\n",
    "\n",
    "stations = session.query(Measurement.prcp, Measurement.station).order_by(Measurement.station.desc()).all()\n",
    "stations = pd.DataFrame(stations)\n",
    "most_active = stations['station'].value_counts()\n",
    "most_active = pd.DataFrame(most_active)\n",
    "most_active"
   ]
  },
  {
   "cell_type": "code",
   "execution_count": 41,
   "metadata": {},
   "outputs": [
    {
     "data": {
      "text/html": [
       "<div>\n",
       "<style>\n",
       "    .dataframe thead tr:only-child th {\n",
       "        text-align: right;\n",
       "    }\n",
       "\n",
       "    .dataframe thead th {\n",
       "        text-align: left;\n",
       "    }\n",
       "\n",
       "    .dataframe tbody tr th {\n",
       "        vertical-align: top;\n",
       "    }\n",
       "</style>\n",
       "<table border=\"1\" class=\"dataframe\">\n",
       "  <thead>\n",
       "    <tr style=\"text-align: right;\">\n",
       "      <th></th>\n",
       "      <th>tobs</th>\n",
       "      <th>station</th>\n",
       "    </tr>\n",
       "  </thead>\n",
       "  <tbody>\n",
       "    <tr>\n",
       "      <th>0</th>\n",
       "      <td>75.0</td>\n",
       "      <td>USC00519523</td>\n",
       "    </tr>\n",
       "    <tr>\n",
       "      <th>1</th>\n",
       "      <td>75.0</td>\n",
       "      <td>USC00519523</td>\n",
       "    </tr>\n",
       "    <tr>\n",
       "      <th>2</th>\n",
       "      <td>72.0</td>\n",
       "      <td>USC00519523</td>\n",
       "    </tr>\n",
       "    <tr>\n",
       "      <th>3</th>\n",
       "      <td>68.0</td>\n",
       "      <td>USC00519523</td>\n",
       "    </tr>\n",
       "    <tr>\n",
       "      <th>4</th>\n",
       "      <td>63.0</td>\n",
       "      <td>USC00519523</td>\n",
       "    </tr>\n",
       "  </tbody>\n",
       "</table>\n",
       "</div>"
      ],
      "text/plain": [
       "   tobs      station\n",
       "0  75.0  USC00519523\n",
       "1  75.0  USC00519523\n",
       "2  72.0  USC00519523\n",
       "3  68.0  USC00519523\n",
       "4  63.0  USC00519523"
      ]
     },
     "execution_count": 41,
     "metadata": {},
     "output_type": "execute_result"
    }
   ],
   "source": [
    "# Query to retrieve the last 12 months of temperature observation data (tobs).\n",
    "\n",
    "last_tobs = session.query(Measurement.tobs, Measurement.station).order_by(Measurement.station.desc()).limit(365).all()\n",
    "last_tobs = pd.DataFrame(last_tobs)\n",
    "last_tobs.head()"
   ]
  },
  {
   "cell_type": "code",
   "execution_count": 42,
   "metadata": {},
   "outputs": [
    {
     "data": {
      "image/png": "[encoded data removed]",
      "text/plain": [
       "<matplotlib.figure.Figure at 0xb4e3358>"
      ]
     },
     "metadata": {},
     "output_type": "display_data"
    }
   ],
   "source": [
    "last_tobs.hist(column='tobs', color = 'b', alpha = 0.50)\n",
    "plt.title('Temperature Observation Data for last 12 monts')\n",
    "plt.savefig('temp_observation.png')\n",
    "plt.show()"
   ]
  },
  {
   "cell_type": "code",
   "execution_count": 44,
   "metadata": {
    "collapsed": true
   },
   "outputs": [],
   "source": [
    "def calc_tmps(start_date, end_date):\n",
    "    # start_date = input('Vacation Start Date: Year-Date-Month format ')\n",
    "    # end_date = input('Vacation End Date: Year-Date-Month format ')\n",
    "    return session.query(func.min(Measurement.tobs), func.max(Measurement.tobs), func.avg(Measurement.tobs)).\\\n",
    "    filter(Measurement.date >= start_date).filter(Measurement.date <= end_date).all()"
   ]
  },
  {
   "cell_type": "code",
   "execution_count": 49,
   "metadata": {},
   "outputs": [
    {
     "data": {
      "text/plain": [
       "[(70.0, 83.0, 77.16216216216216)]"
      ]
     },
     "execution_count": 49,
     "metadata": {},
     "output_type": "execute_result"
    }
   ],
   "source": [
    "results = calc_tmps('2017-07-30', '2017-08-23')\n",
    "values = results[0]\n",
    "TMIN = values[0]\n",
    "TMAX = values[1]\n",
    "TAVG = values[2]\n",
    "\n",
    "results"
   ]
  },
  {
   "cell_type": "code",
   "execution_count": 50,
   "metadata": {},
   "outputs": [
    {
     "data": {
      "image/png": "[encoded data removed]",
      "text/plain": [
       "<matplotlib.figure.Figure at 0xb7fcd30>"
      ]
     },
     "metadata": {},
     "output_type": "display_data"
    }
   ],
   "source": [
    "\n",
    "plt.style.use('ggplot')\n",
    "\n",
    "x = ['TAVG']\n",
    "data = [TAVG]\n",
    "error =  TMAX - TMIN\n",
    "\n",
    "x_pos = [i for i, _ in enumerate(x)]\n",
    "\n",
    "plt.bar(x_pos, data, yerr = error, color='pink', alpha=0.75, align='center')\n",
    "plt.ylabel(\"Temp (F)\")\n",
    "plt.title(\"Trip Avg Temp\")\n",
    "plt.xticks(x_pos, x)\n",
    "plt.savefig('trip_avg_temp.png')\n",
    "plt.show()"
   ]
  },
  {
   "cell_type": "code",
   "execution_count": 51,
   "metadata": {},
   "outputs": [
    {
     "data": {
      "text/html": [
       "<div>\n",
       "<style>\n",
       "    .dataframe thead tr:only-child th {\n",
       "        text-align: right;\n",
       "    }\n",
       "\n",
       "    .dataframe thead th {\n",
       "        text-align: left;\n",
       "    }\n",
       "\n",
       "    .dataframe tbody tr th {\n",
       "        vertical-align: top;\n",
       "    }\n",
       "</style>\n",
       "<table border=\"1\" class=\"dataframe\">\n",
       "  <thead>\n",
       "    <tr style=\"text-align: right;\">\n",
       "      <th></th>\n",
       "      <th>date</th>\n",
       "      <th>tobs</th>\n",
       "    </tr>\n",
       "  </thead>\n",
       "  <tbody>\n",
       "    <tr>\n",
       "      <th>0</th>\n",
       "      <td>2010-01-01</td>\n",
       "      <td>75.0</td>\n",
       "    </tr>\n",
       "    <tr>\n",
       "      <th>1</th>\n",
       "      <td>2010-01-05</td>\n",
       "      <td>75.0</td>\n",
       "    </tr>\n",
       "    <tr>\n",
       "      <th>2</th>\n",
       "      <td>2010-01-06</td>\n",
       "      <td>72.0</td>\n",
       "    </tr>\n",
       "    <tr>\n",
       "      <th>3</th>\n",
       "      <td>2010-01-07</td>\n",
       "      <td>68.0</td>\n",
       "    </tr>\n",
       "    <tr>\n",
       "      <th>4</th>\n",
       "      <td>2010-01-08</td>\n",
       "      <td>63.0</td>\n",
       "    </tr>\n",
       "  </tbody>\n",
       "</table>\n",
       "</div>"
      ],
      "text/plain": [
       "         date  tobs\n",
       "0  2010-01-01  75.0\n",
       "1  2010-01-05  75.0\n",
       "2  2010-01-06  72.0\n",
       "3  2010-01-07  68.0\n",
       "4  2010-01-08  63.0"
      ]
     },
     "execution_count": 51,
     "metadata": {},
     "output_type": "execute_result"
    }
   ],
   "source": [
    "# Routes\n",
    "\n",
    "temp_dates = session.query(Measurement.date, Measurement.tobs).order_by(Measurement.station.desc()).limit(365).all()\n",
    "temp_dates = pd.DataFrame(temp_dates)\n",
    "temp_dates.head()"
   ]
  },
  {
   "cell_type": "code",
   "execution_count": 54,
   "metadata": {},
   "outputs": [
    {
     "data": {
      "text/plain": [
       "{'2010-01-01': 75.0,\n",
       " '2010-01-05': 75.0,\n",
       " '2010-01-06': 72.0,\n",
       " '2010-01-07': 68.0,\n",
       " '2010-01-08': 63.0,\n",
       " '2010-01-09': 69.0,\n",
       " '2010-01-11': 68.0,\n",
       " '2010-01-21': 70.0,\n",
       " '2010-01-26': 76.0,\n",
       " '2010-01-27': 69.0,\n",
       " '2010-01-28': 71.0,\n",
       " '2010-01-29': 65.0,\n",
       " '2010-01-30': 69.0,\n",
       " '2010-01-31': 72.0,\n",
       " '2010-02-03': 65.0,\n",
       " '2010-02-05': 65.0,\n",
       " '2010-02-12': 70.0,\n",
       " '2010-02-17': 68.0,\n",
       " '2010-02-19': 63.0,\n",
       " '2010-02-20': 74.0,\n",
       " '2010-02-21': 66.0,\n",
       " '2010-02-22': 63.0,\n",
       " '2010-02-23': 63.0,\n",
       " '2010-02-27': 73.0,\n",
       " '2010-02-28': 69.0,\n",
       " '2010-03-01': 69.0,\n",
       " '2010-03-04': 69.0,\n",
       " '2010-03-05': 70.0,\n",
       " '2010-03-06': 72.0,\n",
       " '2010-03-08': 70.0,\n",
       " '2010-03-10': 72.0,\n",
       " '2010-03-11': 72.0,\n",
       " '2010-03-15': 71.0,\n",
       " '2010-03-16': 71.0,\n",
       " '2010-03-17': 69.0,\n",
       " '2010-03-18': 67.0,\n",
       " '2010-03-19': 68.0,\n",
       " '2010-03-24': 77.0,\n",
       " '2010-03-25': 73.0,\n",
       " '2010-03-26': 74.0,\n",
       " '2010-03-27': 77.0,\n",
       " '2010-03-28': 76.0,\n",
       " '2010-03-30': 73.0,\n",
       " '2010-04-01': 72.0,\n",
       " '2010-04-03': 72.0,\n",
       " '2010-04-04': 72.0,\n",
       " '2010-04-05': 72.0,\n",
       " '2010-04-06': 73.0,\n",
       " '2010-04-07': 73.0,\n",
       " '2010-04-11': 75.0,\n",
       " '2010-04-13': 71.0,\n",
       " '2010-04-14': 69.0,\n",
       " '2010-04-16': 64.0,\n",
       " '2010-04-17': 69.0,\n",
       " '2010-04-20': 72.0,\n",
       " '2010-04-21': 72.0,\n",
       " '2010-04-22': 73.0,\n",
       " '2010-04-23': 72.0,\n",
       " '2010-04-24': 74.0,\n",
       " '2010-04-28': 74.0,\n",
       " '2010-04-29': 73.0,\n",
       " '2010-05-02': 71.0,\n",
       " '2010-05-03': 72.0,\n",
       " '2010-05-04': 77.0,\n",
       " '2010-05-07': 71.0,\n",
       " '2010-05-08': 76.0,\n",
       " '2010-05-12': 78.0,\n",
       " '2010-05-15': 71.0,\n",
       " '2010-05-16': 73.0,\n",
       " '2010-05-17': 74.0,\n",
       " '2010-05-20': 75.0,\n",
       " '2010-05-23': 75.0,\n",
       " '2010-05-24': 75.0,\n",
       " '2010-05-26': 78.0,\n",
       " '2010-06-01': 76.0,\n",
       " '2010-06-08': 77.0,\n",
       " '2010-06-18': 73.0,\n",
       " '2010-06-25': 74.0,\n",
       " '2010-06-26': 75.0,\n",
       " '2010-07-01': 74.0,\n",
       " '2010-07-02': 74.0,\n",
       " '2010-07-03': 76.0,\n",
       " '2010-07-04': 79.0,\n",
       " '2010-07-05': 79.0,\n",
       " '2010-07-06': 73.0,\n",
       " '2010-07-07': 73.0,\n",
       " '2010-07-08': 76.0,\n",
       " '2010-07-09': 72.0,\n",
       " '2010-07-10': 76.0,\n",
       " '2010-07-14': 74.0,\n",
       " '2010-07-15': 76.0,\n",
       " '2010-07-16': 80.0,\n",
       " '2010-07-17': 74.0,\n",
       " '2010-07-18': 77.0,\n",
       " '2010-07-21': 74.0,\n",
       " '2010-07-31': 76.0,\n",
       " '2010-08-01': 77.0,\n",
       " '2010-08-02': 74.0,\n",
       " '2010-08-03': 74.0,\n",
       " '2010-08-04': 76.0,\n",
       " '2010-08-05': 73.0,\n",
       " '2010-08-06': 76.0,\n",
       " '2010-08-07': 78.0,\n",
       " '2010-08-11': 74.0,\n",
       " '2010-08-13': 79.0,\n",
       " '2010-08-15': 76.0,\n",
       " '2010-08-16': 72.0,\n",
       " '2010-08-18': 77.0,\n",
       " '2010-08-19': 77.0,\n",
       " '2010-08-20': 77.0,\n",
       " '2010-08-21': 79.0,\n",
       " '2010-08-22': 78.0,\n",
       " '2010-08-25': 76.0,\n",
       " '2010-08-26': 77.0,\n",
       " '2010-08-27': 77.0,\n",
       " '2010-08-29': 77.0,\n",
       " '2010-08-31': 76.0,\n",
       " '2010-09-02': 73.0,\n",
       " '2010-09-03': 76.0,\n",
       " '2010-09-04': 80.0,\n",
       " '2010-09-05': 78.0,\n",
       " '2010-09-06': 78.0,\n",
       " '2010-09-07': 75.0,\n",
       " '2010-09-08': 77.0,\n",
       " '2010-09-09': 77.0,\n",
       " '2010-09-10': 75.0,\n",
       " '2010-09-11': 81.0,\n",
       " '2010-09-12': 78.0,\n",
       " '2010-09-18': 77.0,\n",
       " '2010-09-19': 76.0,\n",
       " '2010-09-20': 76.0,\n",
       " '2010-09-21': 76.0,\n",
       " '2010-09-22': 74.0,\n",
       " '2010-09-23': 76.0,\n",
       " '2010-09-24': 75.0,\n",
       " '2010-09-25': 76.0,\n",
       " '2010-09-30': 72.0,\n",
       " '2010-10-01': 76.0,\n",
       " '2010-10-02': 80.0,\n",
       " '2010-10-03': 78.0,\n",
       " '2010-10-10': 80.0,\n",
       " '2010-10-11': 76.0,\n",
       " '2010-10-12': 72.0,\n",
       " '2010-10-17': 76.0,\n",
       " '2010-10-26': 75.0,\n",
       " '2010-10-27': 76.0,\n",
       " '2010-10-28': 77.0,\n",
       " '2010-10-29': 75.0,\n",
       " '2010-10-30': 81.0,\n",
       " '2010-11-01': 74.0,\n",
       " '2010-11-03': 70.0,\n",
       " '2010-11-04': 72.0,\n",
       " '2010-11-05': 74.0,\n",
       " '2010-11-06': 74.0,\n",
       " '2010-11-07': 76.0,\n",
       " '2010-11-15': 75.0,\n",
       " '2010-11-19': 68.0,\n",
       " '2010-11-21': 77.0,\n",
       " '2010-11-25': 76.0,\n",
       " '2010-11-27': 76.0,\n",
       " '2010-11-28': 76.0,\n",
       " '2010-11-29': 73.0,\n",
       " '2010-12-01': 78.0,\n",
       " '2010-12-02': 74.0,\n",
       " '2010-12-03': 74.0,\n",
       " '2010-12-08': 65.0,\n",
       " '2010-12-09': 77.0,\n",
       " '2010-12-10': 67.0,\n",
       " '2010-12-11': 69.0,\n",
       " '2010-12-12': 75.0,\n",
       " '2010-12-13': 67.0,\n",
       " '2010-12-14': 71.0,\n",
       " '2010-12-19': 70.0,\n",
       " '2010-12-20': 73.0,\n",
       " '2010-12-21': 71.0,\n",
       " '2010-12-22': 71.0,\n",
       " '2010-12-23': 71.0,\n",
       " '2010-12-24': 67.0,\n",
       " '2010-12-25': 71.0,\n",
       " '2010-12-26': 74.0,\n",
       " '2010-12-27': 76.0,\n",
       " '2010-12-28': 72.0,\n",
       " '2010-12-29': 74.0,\n",
       " '2010-12-30': 75.0,\n",
       " '2010-12-31': 69.0,\n",
       " '2011-01-01': 69.0,\n",
       " '2011-01-06': 68.0,\n",
       " '2011-01-07': 66.0,\n",
       " '2011-01-11': 58.0,\n",
       " '2011-01-12': 71.0,\n",
       " '2011-01-13': 70.0,\n",
       " '2011-01-14': 76.0,\n",
       " '2011-01-17': 70.0,\n",
       " '2011-01-19': 63.0,\n",
       " '2011-01-29': 76.0,\n",
       " '2011-01-31': 66.0,\n",
       " '2011-02-07': 67.0,\n",
       " '2011-02-08': 71.0,\n",
       " '2011-02-10': 69.0,\n",
       " '2011-02-11': 68.0,\n",
       " '2011-02-12': 72.0,\n",
       " '2011-02-13': 76.0,\n",
       " '2011-02-18': 76.0,\n",
       " '2011-02-20': 73.0,\n",
       " '2011-02-21': 76.0,\n",
       " '2011-02-22': 73.0,\n",
       " '2011-02-23': 73.0,\n",
       " '2011-02-24': 68.0,\n",
       " '2011-02-26': 77.0,\n",
       " '2011-02-28': 70.0,\n",
       " '2011-03-01': 67.0,\n",
       " '2011-03-02': 72.0,\n",
       " '2011-03-03': 71.0,\n",
       " '2011-03-04': 72.0,\n",
       " '2011-03-05': 69.0,\n",
       " '2011-03-06': 74.0,\n",
       " '2011-03-07': 73.0,\n",
       " '2011-03-08': 73.0,\n",
       " '2011-03-09': 70.0,\n",
       " '2011-03-10': 72.0,\n",
       " '2011-03-11': 71.0,\n",
       " '2011-03-12': 75.0,\n",
       " '2011-03-17': 73.0,\n",
       " '2011-03-18': 72.0,\n",
       " '2011-03-19': 73.0,\n",
       " '2011-03-20': 74.0,\n",
       " '2011-03-22': 73.0,\n",
       " '2011-03-24': 76.0,\n",
       " '2011-03-25': 76.0,\n",
       " '2011-04-01': 73.0,\n",
       " '2011-04-06': 72.0,\n",
       " '2011-04-07': 67.0,\n",
       " '2011-04-08': 69.0,\n",
       " '2011-04-09': 76.0,\n",
       " '2011-04-10': 75.0,\n",
       " '2011-04-14': 75.0,\n",
       " '2011-04-16': 75.0,\n",
       " '2011-04-29': 75.0,\n",
       " '2011-05-03': 73.0,\n",
       " '2011-05-04': 75.0,\n",
       " '2011-05-06': 72.0,\n",
       " '2011-05-07': 74.0,\n",
       " '2011-05-08': 75.0,\n",
       " '2011-05-09': 75.0,\n",
       " '2011-05-10': 73.0,\n",
       " '2011-05-11': 71.0,\n",
       " '2011-05-12': 77.0,\n",
       " '2011-05-13': 75.0,\n",
       " '2011-05-19': 78.0,\n",
       " '2011-05-22': 76.0,\n",
       " '2011-05-27': 76.0,\n",
       " '2011-05-28': 75.0,\n",
       " '2011-05-29': 75.0,\n",
       " '2011-05-30': 76.0,\n",
       " '2011-05-31': 76.0,\n",
       " '2011-06-01': 79.0,\n",
       " '2011-06-02': 76.0,\n",
       " '2011-06-03': 72.0,\n",
       " '2011-06-04': 71.0,\n",
       " '2011-06-05': 72.0,\n",
       " '2011-06-06': 76.0,\n",
       " '2011-06-07': 74.0,\n",
       " '2011-06-12': 75.0,\n",
       " '2011-06-16': 75.0,\n",
       " '2011-06-19': 79.0,\n",
       " '2011-06-20': 74.0,\n",
       " '2011-06-21': 73.0,\n",
       " '2011-06-22': 75.0,\n",
       " '2011-06-23': 74.0,\n",
       " '2011-06-24': 75.0,\n",
       " '2011-06-26': 72.0,\n",
       " '2011-06-27': 74.0,\n",
       " '2011-06-28': 74.0,\n",
       " '2011-07-01': 81.0,\n",
       " '2011-07-02': 76.0,\n",
       " '2011-07-03': 76.0,\n",
       " '2011-07-04': 76.0,\n",
       " '2011-07-05': 75.0,\n",
       " '2011-07-06': 79.0,\n",
       " '2011-07-07': 73.0,\n",
       " '2011-07-08': 75.0,\n",
       " '2011-07-09': 79.0,\n",
       " '2011-07-10': 77.0,\n",
       " '2011-07-11': 76.0,\n",
       " '2011-07-17': 78.0,\n",
       " '2011-07-20': 71.0,\n",
       " '2011-07-22': 75.0,\n",
       " '2011-07-23': 77.0,\n",
       " '2011-07-25': 76.0,\n",
       " '2011-07-27': 75.0,\n",
       " '2011-07-28': 76.0,\n",
       " '2011-07-29': 77.0,\n",
       " '2011-07-30': 76.0,\n",
       " '2011-07-31': 78.0,\n",
       " '2011-08-07': 77.0,\n",
       " '2011-08-09': 78.0,\n",
       " '2011-08-15': 76.0,\n",
       " '2011-08-16': 76.0,\n",
       " '2011-08-18': 75.0,\n",
       " '2011-08-19': 83.0,\n",
       " '2011-08-21': 78.0,\n",
       " '2011-08-23': 75.0,\n",
       " '2011-08-25': 75.0,\n",
       " '2011-08-29': 76.0,\n",
       " '2011-08-30': 76.0,\n",
       " '2011-08-31': 76.0,\n",
       " '2011-09-01': 77.0,\n",
       " '2011-09-02': 77.0,\n",
       " '2011-09-13': 73.0,\n",
       " '2011-09-16': 80.0,\n",
       " '2011-09-18': 77.0,\n",
       " '2011-09-19': 77.0,\n",
       " '2011-09-21': 76.0,\n",
       " '2011-09-22': 77.0,\n",
       " '2011-09-28': 75.0,\n",
       " '2011-10-04': 75.0,\n",
       " '2011-10-07': 72.0,\n",
       " '2011-10-09': 77.0,\n",
       " '2011-10-11': 76.0,\n",
       " '2011-10-14': 79.0,\n",
       " '2011-10-15': 79.0,\n",
       " '2011-10-17': 70.0,\n",
       " '2011-10-18': 72.0,\n",
       " '2011-10-19': 68.0,\n",
       " '2011-10-21': 77.0,\n",
       " '2011-10-24': 73.0,\n",
       " '2011-10-28': 76.0,\n",
       " '2011-10-29': 80.0,\n",
       " '2011-10-30': 72.0,\n",
       " '2011-11-01': 74.0,\n",
       " '2011-11-02': 73.0,\n",
       " '2011-11-03': 78.0,\n",
       " '2011-11-04': 73.0,\n",
       " '2011-11-08': 74.0,\n",
       " '2011-11-09': 74.0,\n",
       " '2011-11-11': 75.0,\n",
       " '2011-11-17': 75.0,\n",
       " '2011-11-19': 74.0,\n",
       " '2011-11-20': 75.0,\n",
       " '2011-11-22': 72.0,\n",
       " '2011-11-23': 72.0,\n",
       " '2011-11-30': 66.0,\n",
       " '2011-12-01': 69.0,\n",
       " '2011-12-02': 69.0,\n",
       " '2011-12-03': 75.0,\n",
       " '2011-12-06': 72.0,\n",
       " '2011-12-09': 74.0,\n",
       " '2011-12-10': 72.0,\n",
       " '2011-12-11': 73.0,\n",
       " '2011-12-12': 73.0,\n",
       " '2011-12-13': 73.0,\n",
       " '2011-12-14': 73.0,\n",
       " '2011-12-15': 74.0,\n",
       " '2011-12-16': 73.0,\n",
       " '2011-12-17': 71.0,\n",
       " '2011-12-18': 72.0,\n",
       " '2011-12-19': 73.0,\n",
       " '2011-12-20': 74.0,\n",
       " '2011-12-21': 72.0,\n",
       " '2011-12-22': 73.0,\n",
       " '2011-12-23': 73.0,\n",
       " '2011-12-24': 71.0,\n",
       " '2011-12-25': 73.0,\n",
       " '2011-12-26': 75.0,\n",
       " '2011-12-27': 71.0}"
      ]
     },
     "execution_count": 54,
     "metadata": {},
     "output_type": "execute_result"
    }
   ],
   "source": [
    "temp_dates_dict = dict(zip(temp_dates.date, temp_dates.tobs))\n",
    "temp_dates_dict"
   ]
  },
  {
   "cell_type": "code",
   "execution_count": 65,
   "metadata": {
    "collapsed": true
   },
   "outputs": [],
   "source": [
    "import json\n",
    "with open('temp_dates_dict.json', 'w') as fp:\n",
    "    json.dump(temp_dates_dict, fp)"
   ]
  },
  {
   "cell_type": "code",
   "execution_count": 66,
   "metadata": {},
   "outputs": [
    {
     "data": {
      "text/html": [
       "<div>\n",
       "<style>\n",
       "    .dataframe thead tr:only-child th {\n",
       "        text-align: right;\n",
       "    }\n",
       "\n",
       "    .dataframe thead th {\n",
       "        text-align: left;\n",
       "    }\n",
       "\n",
       "    .dataframe tbody tr th {\n",
       "        vertical-align: top;\n",
       "    }\n",
       "</style>\n",
       "<table border=\"1\" class=\"dataframe\">\n",
       "  <thead>\n",
       "    <tr style=\"text-align: right;\">\n",
       "      <th></th>\n",
       "      <th>name</th>\n",
       "      <th>station</th>\n",
       "    </tr>\n",
       "  </thead>\n",
       "  <tbody>\n",
       "    <tr>\n",
       "      <th>0</th>\n",
       "      <td>WAIKIKI 717.2, HI US</td>\n",
       "      <td>USC00519397</td>\n",
       "    </tr>\n",
       "    <tr>\n",
       "      <th>1</th>\n",
       "      <td>KANEOHE 838.1, HI US</td>\n",
       "      <td>USC00513117</td>\n",
       "    </tr>\n",
       "    <tr>\n",
       "      <th>2</th>\n",
       "      <td>KUALOA RANCH HEADQUARTERS 886.9, HI US</td>\n",
       "      <td>USC00514830</td>\n",
       "    </tr>\n",
       "    <tr>\n",
       "      <th>3</th>\n",
       "      <td>PEARL CITY, HI US</td>\n",
       "      <td>USC00517948</td>\n",
       "    </tr>\n",
       "    <tr>\n",
       "      <th>4</th>\n",
       "      <td>UPPER WAHIAWA 874.3, HI US</td>\n",
       "      <td>USC00518838</td>\n",
       "    </tr>\n",
       "  </tbody>\n",
       "</table>\n",
       "</div>"
      ],
      "text/plain": [
       "                                     name      station\n",
       "0                    WAIKIKI 717.2, HI US  USC00519397\n",
       "1                    KANEOHE 838.1, HI US  USC00513117\n",
       "2  KUALOA RANCH HEADQUARTERS 886.9, HI US  USC00514830\n",
       "3                       PEARL CITY, HI US  USC00517948\n",
       "4              UPPER WAHIAWA 874.3, HI US  USC00518838"
      ]
     },
     "execution_count": 66,
     "metadata": {},
     "output_type": "execute_result"
    }
   ],
   "source": [
    "stations_info = session.query(Station.name, Station.station ).all()\n",
    "stations_info = pd.DataFrame(stations_info)\n",
    "stations_info.head()"
   ]
  },
  {
   "cell_type": "code",
   "execution_count": 67,
   "metadata": {},
   "outputs": [
    {
     "data": {
      "text/plain": [
       "{'HONOLULU OBSERVATORY 702.2, HI US': 'USC00511918',\n",
       " 'KANEOHE 838.1, HI US': 'USC00513117',\n",
       " 'KUALOA RANCH HEADQUARTERS 886.9, HI US': 'USC00514830',\n",
       " 'MANOA LYON ARBO 785.2, HI US': 'USC00516128',\n",
       " 'PEARL CITY, HI US': 'USC00517948',\n",
       " 'UPPER WAHIAWA 874.3, HI US': 'USC00518838',\n",
       " 'WAIHEE 837.5, HI US': 'USC00519281',\n",
       " 'WAIKIKI 717.2, HI US': 'USC00519397',\n",
       " 'WAIMANALO EXPERIMENTAL FARM, HI US': 'USC00519523'}"
      ]
     },
     "execution_count": 67,
     "metadata": {},
     "output_type": "execute_result"
    }
   ],
   "source": [
    "stations_info_dict = dict(zip(stations_info.name, stations_info.station))\n",
    "stations_info_dict"
   ]
  },
  {
   "cell_type": "code",
   "execution_count": 68,
   "metadata": {
    "collapsed": true
   },
   "outputs": [],
   "source": [
    "with open('stations_info_dict.json', 'w') as fp:\n",
    "    json.dump(stations_info_dict, fp)"
   ]
  },
  {
   "cell_type": "code",
   "execution_count": null,
   "metadata": {
    "collapsed": true
   },
   "outputs": [],
   "source": []
  }
 ],
 "metadata": {
  "kernelspec": {
   "display_name": "Python 3",
   "language": "python",
   "name": "python3"
  },
  "language_info": {
   "codemirror_mode": {
    "name": "ipython",
    "version": 3
   },
   "file_extension": ".py",
   "mimetype": "text/x-python",
   "name": "python",
   "nbconvert_exporter": "python",
   "pygments_lexer": "ipython3",
   "version": "3.6.2"
  }
 },
 "nbformat": 4,
 "nbformat_minor": 2
}
